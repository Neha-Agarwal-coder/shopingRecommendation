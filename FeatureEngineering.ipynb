{
 "cells": [
  {
   "cell_type": "code",
   "execution_count": 1,
   "id": "55e324d7-1090-4cba-b456-b8c4754858ce",
   "metadata": {},
   "outputs": [
    {
     "name": "stdout",
     "output_type": "stream",
     "text": [
      "Customer Columns: Index(['Customer_ID', 'Age', 'Gender', 'Location', 'Browsing_History',\n",
      "       'Purchase_History', 'Customer_Segment', 'Avg_Order_Value', 'Holiday',\n",
      "       'Season'],\n",
      "      dtype='object')\n",
      "Product Columns: Index(['Product_ID', 'Category', 'Subcategory', 'Price', 'Brand',\n",
      "       'Average_Rating_of_Similar_Products', 'Product_Rating',\n",
      "       'Customer_Review_Sentiment_Score', 'Holiday', 'Season',\n",
      "       'Geographical_Location', 'Similar_Product_List',\n",
      "       'Probability_of_Recommendation'],\n",
      "      dtype='object')\n",
      "  Customer_ID  Age  Gender   Location                 Browsing_History  \\\n",
      "0       C1000   28  Female    Chennai             ['Books', 'Fashion']   \n",
      "1       C1001   27    Male      Delhi  ['Books', 'Fitness', 'Fashion']   \n",
      "2       C1002   34   Other    Chennai                  ['Electronics']   \n",
      "3       C1003   23    Male  Bangalore                   ['Home Decor']   \n",
      "4       C1004   24   Other    Kolkata        ['Fashion', 'Home Decor']   \n",
      "\n",
      "                               Purchase_History    Customer_Segment  \\\n",
      "0                        ['Biography', 'Jeans']         New Visitor   \n",
      "1  ['Biography', 'Resistance Bands', 'T-shirt']  Occasional Shopper   \n",
      "2                                ['Smartphone']  Occasional Shopper   \n",
      "3                                  ['Wall Art']      Frequent Buyer   \n",
      "4                             ['Shoes', 'Lamp']      Frequent Buyer   \n",
      "\n",
      "   Avg_Order_Value Holiday  Season  \n",
      "0          4806.99      No  Winter  \n",
      "1           795.03     Yes  Autumn  \n",
      "2          1742.45     Yes  Summer  \n",
      "3          2023.16      No  Autumn  \n",
      "4           794.76      No  Winter  \n",
      "  Product_ID     Category Subcategory  Price    Brand  \\\n",
      "0      P2000      Fashion       Jeans   1713  Brand B   \n",
      "1      P2001       Beauty    Lipstick   1232  Brand C   \n",
      "2      P2002  Electronics      Laptop   4833  Brand B   \n",
      "3      P2003        Books      Comics   4902  Brand D   \n",
      "4      P2004   Home Decor    Cushions    856  Brand C   \n",
      "\n",
      "   Average_Rating_of_Similar_Products  Product_Rating  \\\n",
      "0                                 4.2             2.3   \n",
      "1                                 4.7             2.1   \n",
      "2                                 3.5             2.4   \n",
      "3                                 3.4             4.2   \n",
      "4                                 3.2             3.3   \n",
      "\n",
      "   Customer_Review_Sentiment_Score Holiday  Season Geographical_Location  \\\n",
      "0                             0.26      No  Summer                Canada   \n",
      "1                             0.21     Yes  Winter                 India   \n",
      "2                             0.74     Yes  Spring                Canada   \n",
      "3                             0.80      No  Winter               Germany   \n",
      "4                             0.08     Yes  Summer                   USA   \n",
      "\n",
      "                         Similar_Product_List  Probability_of_Recommendation  \n",
      "0                          ['Jeans', 'Shoes']                           0.91  \n",
      "1     ['Moisturizer', 'Lipstick', 'Lipstick']                           0.26  \n",
      "2  ['Headphones', 'Headphones', 'Smartphone']                           0.60  \n",
      "3      ['Biography', 'Non-fiction', 'Comics']                           0.36  \n",
      "4                                    ['Lamp']                           0.37  \n"
     ]
    }
   ],
   "source": [
    "import pandas as pd\n",
    "\n",
    "# Load the CSV files\n",
    "customer_df = pd.read_csv(\"customer_data_collection.csv\", encoding=\"utf-8\")\n",
    "product_df = pd.read_csv(\"product_recommendation_data.csv\", encoding=\"utf-8\")\n",
    "\n",
    "# Drop unnamed columns\n",
    "customer_df = customer_df.loc[:, ~customer_df.columns.str.contains('^Unnamed')]\n",
    "product_df = product_df.loc[:, ~product_df.columns.str.contains('^Unnamed')]\n",
    "\n",
    "# Explore the structure\n",
    "print(\"Customer Columns:\", customer_df.columns)\n",
    "print(\"Product Columns:\", product_df.columns)\n",
    "\n",
    "# View sample records\n",
    "print(customer_df.head())\n",
    "print(product_df.head())"
   ]
  },
  {
   "cell_type": "code",
   "execution_count": null,
   "id": "f3c8bc61-d4fa-47a0-b166-346cb118755b",
   "metadata": {},
   "outputs": [],
   "source": []
  }
 ],
 "metadata": {
  "kernelspec": {
   "display_name": "Python 3 (ipykernel)",
   "language": "python",
   "name": "python3"
  },
  "language_info": {
   "codemirror_mode": {
    "name": "ipython",
    "version": 3
   },
   "file_extension": ".py",
   "mimetype": "text/x-python",
   "name": "python",
   "nbconvert_exporter": "python",
   "pygments_lexer": "ipython3",
   "version": "3.11.5"
  }
 },
 "nbformat": 4,
 "nbformat_minor": 5
}
